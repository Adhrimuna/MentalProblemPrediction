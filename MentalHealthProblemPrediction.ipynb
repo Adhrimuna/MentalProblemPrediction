{
 "cells": [
  {
   "cell_type": "code",
   "execution_count": 4,
   "metadata": {},
   "outputs": [],
   "source": [
    "import numpy as np # linear algebra\n",
    "import pandas as pd # data processing, CSV file I/O (e.g. pd.read_csv)\n",
    "from sklearn.linear_model import LogisticRegression\n",
    "from sklearn.neighbors import KNeighborsClassifier\n",
    "from sklearn.metrics import mean_squared_error, r2_score\n",
    "from sklearn.preprocessing import MinMaxScaler\n",
    "from sklearn import metrics\n",
    "\n",
    "import coremltools"
   ]
  },
  {
   "cell_type": "code",
   "execution_count": 24,
   "metadata": {},
   "outputs": [
    {
     "name": "stdout",
     "output_type": "stream",
     "text": [
      "[[2 1 1 ... 0 2 1]\n",
      " [3 0 0 ... 1 0 2]\n",
      " [0 0 0 ... 0 0 1]\n",
      " ...\n",
      " [1 1 0 ... 0 1 0]\n",
      " [3 1 1 ... 0 0 0]\n",
      " [0 0 0 ... 1 1 2]]\n"
     ]
    },
    {
     "data": {
      "text/plain": [
       "(10000,)"
      ]
     },
     "execution_count": 24,
     "metadata": {},
     "output_type": "execute_result"
    }
   ],
   "source": [
    "data = pd.read_csv(\"healthdata-4.csv\")\n",
    "x =data[['Age','Family_History','Under_Medication','Academic_Performance','Behavioral_Problem',\n",
    "         'Concentration','Restless','Seizures','Learning_Difficulty',\n",
    "        'Attention_Aroused','Attention_Sustained','IQ_Test_Score','ADHD_Positive','ODD_Positive','Manic_Episode_Test_Score','General_Anxiety_Disorder','Major_Depressive_Episode','PDD_Score','Autism_Score']].values\n",
    "x.astype(float)\n",
    "print(x)\n",
    "\n",
    "x.shape\n",
    "x.shape\n",
    "y =data['Problem'].values\n",
    "y.shape"
   ]
  },
  {
   "cell_type": "code",
   "execution_count": 25,
   "metadata": {},
   "outputs": [
    {
     "name": "stderr",
     "output_type": "stream",
     "text": [
      "/Users/adhrimuna/anaconda3/lib/python3.6/site-packages/sklearn/utils/validation.py:475: DataConversionWarning: Data with input dtype int64 was converted to float64 by MinMaxScaler.\n",
      "  warnings.warn(msg, DataConversionWarning)\n"
     ]
    },
    {
     "name": "stdout",
     "output_type": "stream",
     "text": [
      "800\n",
      "Testing_accuracy of Logistic Regression\n",
      "0.6855654600401044\n",
      "knn accuracy\n",
      "0.7280109889280518\n",
      "[0.48 0.48 0.51 0.51 0.5  0.51 0.46 0.5  0.52 0.5 ]\n",
      "knn_cross_val\n",
      "[0.7  0.69 0.72 0.72 0.71 0.71 0.68 0.71 0.72 0.7 ]\n",
      "[0.71 0.72 0.71 0.69 0.7  0.73 0.71 0.72 0.72 0.71]\n",
      "[[54 49]\n",
      " [45 52]]\n"
     ]
    }
   ],
   "source": [
    "scale = MinMaxScaler()\n",
    "scale.fit(x)\n",
    "ad = scale.fit_transform(x)\n",
    "np.set_printoptions(precision=2)\n",
    "#data = pd.DataFrame(ad)\n",
    "#print(ad)\n",
    "n = data.shape[0]\n",
    "n_train = int(np.round(n * .08))\n",
    "limit = n_train+200\n",
    "print(n_train)\n",
    "disease_X_train = ad[:n_train,0:19] #\n",
    "disease_X_test = ad[n_train:limit, 0:19]\n",
    "#print(disease_X_train.shape)\n",
    "#print(disease_X_test.shape)\n",
    "disease_y_train = y[:n_train]\n",
    "disease_y_test = y[n_train:limit]\n",
    "\n",
    "logreg = LogisticRegression(solver='lbfgs')\n",
    "logreg.fit(disease_X_train, disease_y_train)\n",
    "disease_y_pred1 = logreg.predict(disease_X_test)\n",
    "mse= mean_squared_error(disease_y_test, disease_y_pred1)\n",
    "Testing_accuracy = np.sqrt(mse)\n",
    "print('Testing_accuracy of Logistic Regression')\n",
    "print(Testing_accuracy)\n",
    "knn1 = KNeighborsClassifier(n_neighbors = 5)\n",
    "knn1.fit(disease_X_train,disease_y_train)\n",
    "y_pred1 = knn1.predict(disease_X_test)\n",
    "print('knn accuracy')\n",
    "mse = metrics.accuracy_score(disease_y_test, disease_y_pred1)\n",
    "#print(disease_y_pred1.shape)\n",
    "accu = np.sqrt(mse)\n",
    "print(accu)\n",
    "\n",
    "from sklearn.model_selection import cross_val_score\n",
    "knn = KNeighborsClassifier(n_neighbors = 5)\n",
    "scores = cross_val_score(knn, x, y, cv = 10, scoring = 'accuracy')\n",
    "ms = np.sqrt(scores)\n",
    "print(scores)\n",
    "knn = KNeighborsClassifier(n_neighbors = 5)\n",
    "scores =cross_val_score(knn, x, y, cv = 10, scoring = 'accuracy')\n",
    "print(\"knn_cross_val\")\n",
    "rms = np.sqrt(scores)\n",
    "print(rms)\n",
    "scor1 = cross_val_score(logreg, x, y, cv=10, scoring='accuracy')\n",
    "rm = np.sqrt(scor1)\n",
    "print(rm)\n",
    "k_range = list(range(1, 31))\n",
    "#param_grid = dict(n_neighbors=k_range)\n",
    "#print(param_grid)\n",
    "from sklearn.model_selection import GridSearchCV\n",
    "\n",
    "print(metrics.confusion_matrix(disease_y_test, disease_y_pred1))"
   ]
  },
  {
   "cell_type": "code",
   "execution_count": 9,
   "metadata": {},
   "outputs": [
    {
     "name": "stdout",
     "output_type": "stream",
     "text": [
      "True: [0 0 0 1 0 0 0 0 1 0 0 1 1 0 0 1 1 0 1 0 0 1 1 1 0]\n",
      "Pred: [0 1 0 0 0 0 0 1 1 0 1 0 0 1 0 0 1 1 0 1 0 1 1 1 1]\n"
     ]
    }
   ],
   "source": [
    "print('True:', disease_y_test[0:25])\n",
    "print('Pred:', disease_y_pred1[0:25])"
   ]
  },
  {
   "cell_type": "code",
   "execution_count": 10,
   "metadata": {},
   "outputs": [],
   "source": [
    "confusion = metrics.confusion_matrix(disease_y_test, disease_y_pred1)\n",
    "TP = confusion[1, 1]\n",
    "TN = confusion[0, 0]\n",
    "FP = confusion[0, 1]\n",
    "FN = confusion[1, 0]"
   ]
  },
  {
   "cell_type": "code",
   "execution_count": 12,
   "metadata": {},
   "outputs": [
    {
     "name": "stdout",
     "output_type": "stream",
     "text": [
      "Classification Rate\n",
      "0.53\n",
      "0.53\n"
     ]
    }
   ],
   "source": [
    "print(\"Classification Rate\")\n",
    "#print((TP + TN) / float(TP + TN + FP + FN))\n",
    "print(metrics.accuracy_score(disease_y_test, disease_y_pred1))"
   ]
  },
  {
   "cell_type": "code",
   "execution_count": 13,
   "metadata": {},
   "outputs": [
    {
     "name": "stdout",
     "output_type": "stream",
     "text": [
      "[0 1 0 0 0 0 0 1 1 0]\n"
     ]
    }
   ],
   "source": [
    "print(logreg.predict(disease_X_test)[0:10])\n",
    "logreg.predict_proba(disease_X_test)[0:10, :]\n",
    "y_pred_prob = logreg.predict_proba(disease_X_test)[:, 1]"
   ]
  },
  {
   "cell_type": "code",
   "execution_count": 14,
   "metadata": {},
   "outputs": [
    {
     "data": {
      "image/png": "[encoded data removed]",
      "text/plain": [
       "<matplotlib.figure.Figure at 0x1a20f1a278>"
      ]
     },
     "metadata": {},
     "output_type": "display_data"
    }
   ],
   "source": [
    "%matplotlib inline\n",
    "import matplotlib.pyplot as plt\n",
    "fpr, tpr, thresholds = metrics.roc_curve(disease_y_test, y_pred_prob)\n",
    "plt.plot(fpr, tpr)\n",
    "plt.xlim([0.0, 1.0])\n",
    "plt.ylim([0.0, 1.0])\n",
    "plt.title('ROC curve for Child Mental health care classifier')\n",
    "plt.xlabel('False Positive Rate (1 - Specificity)')\n",
    "plt.ylabel('True Positive Rate (Sensitivity)')\n",
    "plt.grid(True)"
   ]
  },
  {
   "cell_type": "code",
   "execution_count": 15,
   "metadata": {},
   "outputs": [],
   "source": [
    "def evaluate_threshold(threshold):\n",
    "    print('Sensitivity:', tpr[thresholds > threshold][-1])\n",
    "    print('Specificity:', 1 - fpr[thresholds > threshold][-1])"
   ]
  },
  {
   "cell_type": "code",
   "execution_count": 16,
   "metadata": {},
   "outputs": [
    {
     "name": "stdout",
     "output_type": "stream",
     "text": [
      "Sensitivity: 0.5360824742268041\n",
      "Specificity: 0.5339805825242718\n"
     ]
    }
   ],
   "source": [
    "evaluate_threshold(0.5)"
   ]
  },
  {
   "cell_type": "code",
   "execution_count": 17,
   "metadata": {},
   "outputs": [
    {
     "name": "stdout",
     "output_type": "stream",
     "text": [
      "Sensitivity: 0.7731958762886598\n",
      "Specificity: 0.13592233009708743\n"
     ]
    }
   ],
   "source": [
    "evaluate_threshold(0.4)\n",
    "\n"
   ]
  },
  {
   "cell_type": "code",
   "execution_count": 18,
   "metadata": {},
   "outputs": [
    {
     "name": "stdout",
     "output_type": "stream",
     "text": [
      "0.5283755379841857\n"
     ]
    },
    {
     "data": {
      "text/plain": [
       "0.5092869738228896"
      ]
     },
     "execution_count": 18,
     "metadata": {},
     "output_type": "execute_result"
    }
   ],
   "source": [
    "print(metrics.roc_auc_score(disease_y_test, y_pred_prob))\n",
    "from sklearn.model_selection import cross_val_score\n",
    "cross_val_score(logreg, x, y, cv=10, scoring='roc_auc').mean()"
   ]
  },
  {
   "cell_type": "code",
   "execution_count": 31,
   "metadata": {},
   "outputs": [
    {
     "name": "stdout",
     "output_type": "stream",
     "text": [
      "[0]\n"
     ]
    }
   ],
   "source": [
    "from sklearn.linear_model import LogisticRegression\n",
    "input_features = [\"Age\",\"Family_History\",\"Under_Medication\",\"Academic_Performance\",\"Behavioral_Problem\",\n",
    "         \"Concentration\",\"Restless\",\"Seizures\",\"Learning_Difficulty\",\n",
    "        \"Major_Depressive_Episode\"]\n",
    "output_feature = \"Problem\"\n",
    "\n",
    "logreg.fit(data[input_features],data[output_feature])\n",
    "#logreg.score()\n",
    "x_new =[2,1,0,1,0,0,0,1,1,0]\n",
    "m = logreg.predict([x_new])\n",
    "print(m)\n",
    "coreml_model = coremltools.converters.sklearn.convert(logreg,\n",
    "                                                         input_features,\n",
    "                                                         output_feature)\n",
    "coreml_model.save('LogisticFinal.mlmodel')"
   ]
  },
  {
   "cell_type": "code",
   "execution_count": null,
   "metadata": {},
   "outputs": [],
   "source": [
    "2,1,1,1,1,0,1,1,0,1"
   ]
  }
 ],
 "metadata": {
  "kernelspec": {
   "display_name": "Python 3",
   "language": "python",
   "name": "python3"
  },
  "language_info": {
   "codemirror_mode": {
    "name": "ipython",
    "version": 3
   },
   "file_extension": ".py",
   "mimetype": "text/x-python",
   "name": "python",
   "nbconvert_exporter": "python",
   "pygments_lexer": "ipython3",
   "version": "3.6.6"
  }
 },
 "nbformat": 4,
 "nbformat_minor": 2
}
